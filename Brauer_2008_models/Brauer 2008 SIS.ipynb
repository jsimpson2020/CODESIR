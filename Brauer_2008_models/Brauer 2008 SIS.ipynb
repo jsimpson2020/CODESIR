{
 "cells": [
  {
   "cell_type": "markdown",
   "metadata": {},
   "source": [
    "# Brauer 2008 SIS Model"
   ]
  },
  {
   "cell_type": "markdown",
   "metadata": {},
   "source": [
    "### Code from Joe Overstreet"
   ]
  },
  {
   "cell_type": "code",
   "execution_count": 1,
   "metadata": {},
   "outputs": [
    {
     "name": "stdout",
     "output_type": "stream",
     "text": [
      "6.125\n"
     ]
    },
    {
     "data": {
      "image/png": "[encoded data removed]",
      "text/plain": [
       "<Figure size 432x288 with 1 Axes>"
      ]
     },
     "metadata": {
      "needs_background": "light"
     },
     "output_type": "display_data"
    }
   ],
   "source": [
    "import numpy as np\n",
    "import matplotlib.pyplot as plt\n",
    "import scipy as sp\n",
    "import math\n",
    "import pandas as pd\n",
    "\n",
    "\n",
    "# time step (days)\n",
    "dt = 0.01 \n",
    "# constant of proportionality (betaprime = beta*N)\n",
    "betaprime = 0.25 #*** I changed this from 0.025 to 0.25, so that we are consistent ***\n",
    "# length of infective period\n",
    "alpha = 0.04\n",
    "# total run time\n",
    "tottime = 365\n",
    "\n",
    "\n",
    "# total population size\n",
    "N = 1000\n",
    "# inital percent removed\n",
    "pr = 0\n",
    "# initial percent infected\n",
    "pi = 0.02\n",
    "# inital percent susceptible\n",
    "ps = 1 - pr - pi\n",
    "# re-susceptibility\n",
    "f = 0\n",
    "\n",
    "\n",
    "niter = int(math.ceil(tottime/dt))\n",
    "t = np.arange(0, tottime, dt)   \n",
    "S = np.zeros(niter)\n",
    "I = np.zeros(niter)\n",
    "R = np.zeros(niter)\n",
    "\n",
    "S[0] = ps*N\n",
    "I[0] = pi*N\n",
    "R[0] = pr*N\n",
    "\n",
    "beta = betaprime/N\n",
    "\n",
    "\n",
    "R0 = beta*S[0]/alpha\n",
    "print(R0)\n",
    "\n",
    "\n",
    "for j in range(niter-1):\n",
    "    dSdt = -beta*S[j]*I[j] + f*alpha*I[j]\n",
    "    dIdt = beta*S[j]*I[j] - alpha*I[j]\n",
    "    dRdt = ( 1 - f)*alpha*I[j]\n",
    "    S[j+1] = S[j] + dt*dSdt\n",
    "    I[j+1] = I[j] + dt*dIdt\n",
    "    R[j+1] = R[j] + dt*dRdt\n",
    "    \n",
    "N = S + I + R\n",
    "\n",
    "\n",
    "#plotname = \"SIR_alpha0.04_beta'0.25.png\"\n",
    "\n",
    "plt.plot(t, S, 'k', label = 'Susceptible')\n",
    "plt.plot(t, I, 'm', label = 'Infected')\n",
    "plt.plot(t, R, 'b', label = 'Recovered') #*** I added a plot and label for recovered ***\n",
    "plt.plot(t, N, 'y', label = 'Total')\n",
    "plt.gca().legend(('Susceptible','Infected','Recovered','Total'))\n",
    "plt.title('SIR Model, R0 = ' + str(R0.round(4)))\n",
    "plt.xlabel('Elasped Time')\n",
    "plt.ylabel('Population')\n",
    "#plt.savefig(plotname)\n",
    "plt.show()\n",
    "\n",
    "\n",
    "#filename = \"SIR_alpha04_beta'25.csv\"\n",
    "#df = pd.DataFrame({'Days':t, 'Infected':I, 'Susceptible':S,\n",
    "#                   'Total':N})\n",
    "\n",
    "#df.to_csv(filename)"
   ]
  },
  {
   "cell_type": "markdown",
   "metadata": {},
   "source": [
    "### Functionalizing Joe's Code for my purposes"
   ]
  },
  {
   "cell_type": "code",
   "execution_count": 2,
   "metadata": {},
   "outputs": [],
   "source": [
    "import numpy as np\n",
    "import matplotlib.pyplot as plt\n",
    "import scipy as sp\n",
    "import math\n",
    "import pandas as pd"
   ]
  },
  {
   "cell_type": "code",
   "execution_count": 3,
   "metadata": {},
   "outputs": [],
   "source": [
    "from __future__ import print_function\n",
    "from ipywidgets import interact, interactive, fixed, interact_manual\n",
    "import ipywidgets as widgets"
   ]
  },
  {
   "cell_type": "code",
   "execution_count": 10,
   "metadata": {},
   "outputs": [
    {
     "data": {
      "application/vnd.jupyter.widget-view+json": {
       "model_id": "6de64706bce545639cd35c68ac941f62",
       "version_major": 2,
       "version_minor": 0
      },
      "text/plain": [
       "interactive(children=(FloatSlider(value=0.04, description='alpha', max=1.0, step=0.01), FloatSlider(value=0.25…"
      ]
     },
     "metadata": {},
     "output_type": "display_data"
    }
   ],
   "source": [
    "@interact(alpha=(0,1,0.01), lmbda=(0,1,0.01), tottime=(100,10000,10), f=(0,1,0.01),\n",
    "          N0=(0,100000,1000), pr=(0,1,0.0001), pi=(0,1,0.0001))\n",
    "def SIS_model(alpha=0.04, lmbda=0.25, tottime=370, f=1, N0=10000, pr=0, pi=0.02):\n",
    "\n",
    "    dt = 0.01 \n",
    "\n",
    "    ps = 1 - pr - pi\n",
    "    \n",
    "    niter = int(math.ceil(tottime/dt))\n",
    "    t = np.arange(0, tottime, dt)   \n",
    "    S = np.zeros(niter)\n",
    "    I = np.zeros(niter)\n",
    "    \n",
    "    S[0] = ps*N0\n",
    "    I[0] = pi*N0\n",
    "\n",
    "    R0 = lmbda/alpha\n",
    "    \n",
    "    for j in range(niter-1):\n",
    "        dSdt = -lmbda/N0*S[j]*I[j] + f*alpha*I[j]\n",
    "        dIdt = lmbda/N0*S[j]*I[j] - alpha*I[j]\n",
    "        S[j+1] = S[j] + dt*dSdt\n",
    "        I[j+1] = I[j] + dt*dIdt\n",
    "    \n",
    "    R = N0-S-I\n",
    "    \n",
    "    \n",
    "    plt.plot(t, S, 'k', label = 'Susceptible')\n",
    "    plt.plot(t, I, 'm', label = 'Infected')\n",
    "    plt.plot(t, R, 'b', label = 'Recovered')\n",
    "    plt.plot(t, S+I+R, 'y', label = 'Total')\n",
    "    plt.gca().legend(('Susceptible','Infected','Recovered','Total'), loc= 'right')\n",
    "    plt.title('Brauer 2008 SIS Model, R0 = ' + str(round(R0,4)))\n",
    "    plt.xlabel('Days since ' + str(pi*100) + ' percent of population infected')\n",
    "    plt.ylabel('Population')\n",
    "    plt.show()\n",
    "    \n",
    "    return plt.show()"
   ]
  },
  {
   "cell_type": "code",
   "execution_count": null,
   "metadata": {},
   "outputs": [],
   "source": []
  }
 ],
 "metadata": {
  "kernelspec": {
   "display_name": "Python 3",
   "language": "python",
   "name": "python3"
  },
  "language_info": {
   "codemirror_mode": {
    "name": "ipython",
    "version": 3
   },
   "file_extension": ".py",
   "mimetype": "text/x-python",
   "name": "python",
   "nbconvert_exporter": "python",
   "pygments_lexer": "ipython3",
   "version": "3.7.6"
  }
 },
 "nbformat": 4,
 "nbformat_minor": 4
}
