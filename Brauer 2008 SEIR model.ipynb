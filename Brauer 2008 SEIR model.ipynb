{
 "cells": [
  {
   "cell_type": "markdown",
   "metadata": {},
   "source": [
    "# Brauer 2008 SEIR model\n",
    "\n",
    "The following infectious disease spread model is based on the SEIR model from Brauer 2008:\n",
    "\n",
    "$S(t)$ is the number of individuals who are susceptible to the disease, that is,\n",
    "who are not (yet) infected at time $t$.\n",
    "$I(t)$ is the number of infected individuals, assumed infectious and able to spread\n",
    "the disease by contact with susceptibles.\n",
    "$R(t)$ is the number of individuals who have been infected and then removed from the\n",
    "possibility of being infected again or of spreading infection.\n",
    "$E(t)$ is the number of individuals who have been exposed, but are not infectious yet.\n",
    "\n",
    "Diff eq's:\n",
    "    $$ S'=-\\beta SI $$\n",
    "    $$ E'=\\beta SI -\\kappa E $$\n",
    "    $$ I'=\\kappa E -\\alpha I $$\n",
    "    $$ R'=\\alpha I $$\n",
    "    \n",
    "Model assumptions:\n",
    "\n",
    "    (1) An average member of the population makes contact sufficient to transmit\n",
    "     infection with betaN others per unit time, where N represents total\n",
    "     population size (mass action incidence).\n",
    "     \n",
    "    (2) Infectives leave the infective class at a rate alphaI per unit time.\n",
    "    \n",
    "    (3) There is no entry into or departure from the population, except possibly\n",
    "     through death from the disease.\n",
    "     \n",
    "    (4) Incorporate an exponentially distributed exposed period with mean exposed period 1/kappa\n",
    "    \n",
    "$R_0$ is the basic reproduction number, which is $\\frac{\\beta S(0)}{\\alpha}$"
   ]
  },
  {
   "cell_type": "markdown",
   "metadata": {},
   "source": [
    "### Importing Packages"
   ]
  },
  {
   "cell_type": "code",
   "execution_count": 1,
   "metadata": {},
   "outputs": [],
   "source": [
    "import numpy as np\n",
    "import matplotlib.pyplot as plt\n",
    "import scipy as sp\n",
    "import math\n",
    "import pandas as pd"
   ]
  },
  {
   "cell_type": "markdown",
   "metadata": {},
   "source": [
    "### Data Collection for SEIR model"
   ]
  },
  {
   "cell_type": "code",
   "execution_count": null,
   "metadata": {},
   "outputs": [],
   "source": [
    "def BrauerSEIR(N=1000, alpha=0.04, betaprime=0.25, filename=\"SEIR1kalpha04beta'25.csv\", plotname=\"SEIR1kalpha04beta'25.png\"):\n",
    "    ''' input population size, alpha value, betaprime value, filename, plotname\n",
    "    returns plot and saves data as dataframe under filename and plot unde plotname\n",
    "    MAKE SURE THAT FILENAME AND PLOTNAME ENTRIES INCLUDE FILE FORMAT\n",
    "    '''\n",
    "    # time step (days)\n",
    "    dt = 0.01\n",
    "    # total time\n",
    "    tottime = 365\n",
    "    # initial percent removed\n",
    "    pr = 0\n",
    "    # initial percent exposed\n",
    "    pe = 0\n",
    "    # initial percent infected\n",
    "    pi = 0.02\n",
    "    # initial percent susceptible\n",
    "    ps = 1 - pr - pe - pi\n",
    "    \n",
    "    niter = int(math.ceil(tottime/dt))\n",
    "    t = np.arange(0, tottime, dt)   \n",
    "    S = np.zeros(niter)\n",
    "    E = np.zeros(niter)\n",
    "    I = np.zeros(niter)\n",
    "    R = np.zeros(niter)\n",
    "    \n",
    "    S[0] = ps*N\n",
    "    E[0] = pe*N\n",
    "    I[0] = pi*N\n",
    "    R[0] = pr*N\n",
    "    \n",
    "    beta = betaprime/N\n",
    "    \n",
    "    kappa = 0.2\n",
    "    \n",
    "    R0 = beta*S[0]/alpha\n",
    "\n",
    "    for j in range(niter-1):\n",
    "        dSdt=-(beta)*S[j]*I[j]\n",
    "        dEdt=beta*S[j]*I[j]-kappa*E[j]\n",
    "        dIdt=kappa*E[j]-alpha*I[j]\n",
    "        dRdt=alpha*I[j]\n",
    "        S[j+1] = S[j] + dt*dSdt\n",
    "        E[j+1] = E[j] + dt*dEdt\n",
    "        I[j+1] = I[j] + dt*dIdt\n",
    "        R[j+1] = R[j] + dt*dRdt\n",
    "    N=S+E+I+R\n",
    "    \n",
    "    plt.plot(t, S, 'k', label = 'susceptible')\n",
    "    plt.plot(t, E, 'g', label = 'exposed')\n",
    "    plt.plot(t, I, 'm', label = 'infected')\n",
    "    plt.plot(t, R, 'b', label = 'recovered')\n",
    "    plt.plot(t, N, 'y', label = 'total')\n",
    "    plt.gca().legend(('susceptible', 'exposed', 'infected','recovered','total'))\n",
    "    plt.title('Brauer 2008 SEIR model R0 = ' + str(R0.round(4)))\n",
    "    plt.xlabel('days since 2 percent of population infected')\n",
    "    plt.ylabel('population')\n",
    "    plt.savefig(plotname)\n",
    "    plt.show()\n",
    "    \n",
    "    df = pd.DataFrame({'days':t, 'susceptible':S, 'exposed':E, 'infected':I,'recovered':R, 'total':N})\n",
    "    df.to_csv(filename)\n",
    "    \n",
    "    return plt.show()"
   ]
  },
  {
   "cell_type": "markdown",
   "metadata": {},
   "source": [
    "SEIR1kalpha04beta'25:"
   ]
  },
  {
   "cell_type": "code",
   "execution_count": null,
   "metadata": {},
   "outputs": [],
   "source": [
    "BrauerSEIR()"
   ]
  },
  {
   "cell_type": "markdown",
   "metadata": {},
   "source": [
    "SEIR1kalpha07beta'25:"
   ]
  },
  {
   "cell_type": "code",
   "execution_count": null,
   "metadata": {},
   "outputs": [],
   "source": [
    "BrauerSEIR(1000, 0.07, 0.25, \"SEIR1kalpha07beta'25.csv\", \"SEIR1kalpha07beta'25.png\")"
   ]
  },
  {
   "cell_type": "markdown",
   "metadata": {},
   "source": [
    "SEIR1kalpha10beta'25:"
   ]
  },
  {
   "cell_type": "code",
   "execution_count": null,
   "metadata": {},
   "outputs": [],
   "source": [
    "BrauerSEIR(1000, 0.10, 0.25, \"SEIR1kalpha10beta'25.csv\", \"SEIR1kalpha10beta'25.png\")"
   ]
  },
  {
   "cell_type": "markdown",
   "metadata": {},
   "source": [
    "SEIR5kalpha04beta'25:"
   ]
  },
  {
   "cell_type": "code",
   "execution_count": null,
   "metadata": {},
   "outputs": [],
   "source": [
    "BrauerSEIR(5000, 0.04, 0.25, \"SEIR5kalpha04beta'25.csv\", \"SEIR5kalpha04beta'25.png\")"
   ]
  },
  {
   "cell_type": "markdown",
   "metadata": {},
   "source": [
    "SEIR5kalpha07beta'25:"
   ]
  },
  {
   "cell_type": "code",
   "execution_count": null,
   "metadata": {},
   "outputs": [],
   "source": [
    "BrauerSEIR(5000, 0.07, 0.25, \"SEIR5kalpha07beta'25.csv\", \"SEIR5kalpha07beta'25.png\")"
   ]
  },
  {
   "cell_type": "markdown",
   "metadata": {},
   "source": [
    "SEIR5kalpha10beta'25:"
   ]
  },
  {
   "cell_type": "code",
   "execution_count": null,
   "metadata": {},
   "outputs": [],
   "source": [
    "BrauerSEIR(5000, 0.10, 0.25, \"SEIR5kalpha10beta'25.csv\", \"SEIR5kalpha10beta'25.png\")"
   ]
  },
  {
   "cell_type": "markdown",
   "metadata": {},
   "source": [
    "SEIR10kalpha04beta'25:"
   ]
  },
  {
   "cell_type": "code",
   "execution_count": null,
   "metadata": {},
   "outputs": [],
   "source": [
    "BrauerSEIR(10000, 0.04, 0.25, \"SEIR10kalpha04beta'25.csv\", \"SEIR10kalpha04beta'25.png\")"
   ]
  },
  {
   "cell_type": "markdown",
   "metadata": {},
   "source": [
    "SEIR10kalpha07beta'25:"
   ]
  },
  {
   "cell_type": "code",
   "execution_count": null,
   "metadata": {},
   "outputs": [],
   "source": [
    "BrauerSEIR(10000, 0.07, 0.25, \"SEIR10kalpha07beta'25.csv\", \"SEIR10kalpha07beta'25.png\")"
   ]
  },
  {
   "cell_type": "markdown",
   "metadata": {},
   "source": [
    "SEIR10kalpha10beta'25:"
   ]
  },
  {
   "cell_type": "code",
   "execution_count": null,
   "metadata": {},
   "outputs": [],
   "source": [
    "BrauerSEIR(10000, 0.10, 0.25, \"SEIR10kalpha10beta'25.csv\", \"SEIR10kalpha10beta'25.png\")"
   ]
  },
  {
   "cell_type": "markdown",
   "metadata": {},
   "source": [
    "SEIR1kalpha04beta'09:"
   ]
  },
  {
   "cell_type": "code",
   "execution_count": null,
   "metadata": {},
   "outputs": [],
   "source": [
    "BrauerSEIR(1000, 0.04, 0.09, \"SEIR1kalpha04beta'09.csv\", \"SEIR1kalpha04beta'09.png\")"
   ]
  },
  {
   "cell_type": "markdown",
   "metadata": {},
   "source": [
    "SEIR1kalpha07beta'09:"
   ]
  },
  {
   "cell_type": "code",
   "execution_count": null,
   "metadata": {},
   "outputs": [],
   "source": [
    "BrauerSEIR(1000, 0.07, 0.09, \"SEIR1kalpha07beta'09.csv\", \"SEIR1kalpha07beta'09.png\")"
   ]
  },
  {
   "cell_type": "markdown",
   "metadata": {},
   "source": [
    "SEIR1kalpha10beta'09:"
   ]
  },
  {
   "cell_type": "code",
   "execution_count": null,
   "metadata": {},
   "outputs": [],
   "source": [
    "BrauerSEIR(1000, 0.10, 0.09, \"SEIR1kalpha10beta'09.csv\", \"SEIR1kalpha10beta'09.png\")"
   ]
  },
  {
   "cell_type": "markdown",
   "metadata": {},
   "source": [
    "SEIR5kalpha04beta'09:"
   ]
  },
  {
   "cell_type": "code",
   "execution_count": null,
   "metadata": {},
   "outputs": [],
   "source": [
    "BrauerSEIR(5000, 0.04, 0.09, \"SEIR5kalpha04beta'09.csv\", \"SEIR5kalpha04beta'09.png\")"
   ]
  },
  {
   "cell_type": "markdown",
   "metadata": {},
   "source": [
    "SEIR5kalpha07beta'09:"
   ]
  },
  {
   "cell_type": "code",
   "execution_count": null,
   "metadata": {},
   "outputs": [],
   "source": [
    "BrauerSEIR(5000, 0.07, 0.09, \"SEIR5kalpha07beta'09.csv\", \"SEIR5kalpha07beta'09.png\")"
   ]
  },
  {
   "cell_type": "markdown",
   "metadata": {},
   "source": [
    "SEIR5kalpha10beta'09:"
   ]
  },
  {
   "cell_type": "code",
   "execution_count": null,
   "metadata": {},
   "outputs": [],
   "source": [
    "BrauerSEIR(5000, 0.10, 0.09, \"SEIR5kalpha10beta'09.csv\", \"SEIR5kalpha10beta'09.png\")"
   ]
  },
  {
   "cell_type": "markdown",
   "metadata": {},
   "source": [
    "SEIR10kalpha04beta'09:"
   ]
  },
  {
   "cell_type": "code",
   "execution_count": null,
   "metadata": {},
   "outputs": [],
   "source": [
    "BrauerSEIR(10000, 0.04, 0.09, \"SEIR10kalpha04beta'09.csv\", \"SEIR10kalpha04beta'09.png\")"
   ]
  },
  {
   "cell_type": "markdown",
   "metadata": {},
   "source": [
    "SEIR10kalpha07beta'09:"
   ]
  },
  {
   "cell_type": "code",
   "execution_count": null,
   "metadata": {},
   "outputs": [],
   "source": [
    "BrauerSEIR(10000, 0.07, 0.09, \"SEIR10kalpha07beta'09.csv\", \"SEIR10kalpha07beta'09.png\")"
   ]
  },
  {
   "cell_type": "markdown",
   "metadata": {},
   "source": [
    "SEIR10kalpha10beta'09:"
   ]
  },
  {
   "cell_type": "code",
   "execution_count": null,
   "metadata": {},
   "outputs": [],
   "source": [
    "BrauerSEIR(10000, 0.10, 0.09, \"SEIR10kalpha10beta'09.csv\", \"SEIR10kalpha10beta'09.png\")"
   ]
  },
  {
   "cell_type": "markdown",
   "metadata": {},
   "source": [
    "### Internal Tests"
   ]
  },
  {
   "cell_type": "markdown",
   "metadata": {},
   "source": [
    "SEIR1kalpha0beta'25:"
   ]
  },
  {
   "cell_type": "code",
   "execution_count": null,
   "metadata": {},
   "outputs": [],
   "source": [
    "BrauerSEIR(1000, 0, 0.25, \"SEIR1kalpha0beta'25.csv\", \"SEIR1kalpha0beta'25.png\")"
   ]
  },
  {
   "cell_type": "markdown",
   "metadata": {},
   "source": [
    "SEIR1kalpha04beta'0:"
   ]
  },
  {
   "cell_type": "code",
   "execution_count": null,
   "metadata": {},
   "outputs": [],
   "source": [
    "BrauerSEIR(1000, 0.04, 0, \"SEIR1kalpha04beta'0.csv\", \"SEIR1kalpha04beta'0.png\")"
   ]
  },
  {
   "cell_type": "markdown",
   "metadata": {},
   "source": [
    "### SIR comparison"
   ]
  },
  {
   "cell_type": "code",
   "execution_count": 2,
   "metadata": {},
   "outputs": [],
   "source": [
    "def BrauerSIRcomparison(N=1000, alpha=0.04, betaprime=0.25, kappa=100, filename=\"SIRcomp1kalpha04beta'25kappa100.csv\", plotname=\"SIRcomp1kalpha04beta'25kappa100.png\"):\n",
    "    ''' input population size, alpha value, betaprime value, kappa value, filename, and plotname\n",
    "    returns plot and saves data as dataframe under filename and plot unde plotname\n",
    "    MAKE SURE THAT FILENAME AND PLOTNAME ENTRIES INCLUDE FILE FORMAT\n",
    "    '''\n",
    "    # time step (days)\n",
    "    dt = 0.001\n",
    "    # total time\n",
    "    tottime = 365\n",
    "    # initial percent removed\n",
    "    pr = 0\n",
    "    # initial percent exposed\n",
    "    pe = 0\n",
    "    # initial percent infected\n",
    "    pi = 0.02\n",
    "    # initial percent susceptible\n",
    "    ps0 = 1 - pr - pi\n",
    "    # initial percent susceptible\n",
    "    ps = 1 - pr - pe - pi\n",
    "    \n",
    "    niter = int(math.ceil(tottime/dt))\n",
    "    t = np.arange(0, tottime, dt)   \n",
    "    S0 = np.zeros(niter)\n",
    "    I0 = np.zeros(niter)\n",
    "    R0 = np.zeros(niter)\n",
    "    N0 = np.zeros(niter)\n",
    "    S = np.zeros(niter)\n",
    "    E = np.zeros(niter)\n",
    "    I = np.zeros(niter)\n",
    "    R = np.zeros(niter)\n",
    "    I1 = np.zeros(niter)\n",
    "    DeltaS = np.zeros(niter)\n",
    "    DeltaI = np.zeros(niter)\n",
    "    DeltaR = np.zeros(niter)\n",
    "    DeltaN = np.zeros(niter)\n",
    "    \n",
    "    S0[0] = ps0*N\n",
    "    I0[0] = pi*N\n",
    "    R0[0] = pr*N\n",
    "    N0[0] = N\n",
    "    S[0] = ps*N\n",
    "    E[0] = pe*N\n",
    "    I[0] = pi*N\n",
    "    R[0] = pr*N\n",
    "    \n",
    "    beta = betaprime/N #assumes standard incidence \n",
    "    \n",
    "    R_0 = beta*S[0]/alpha\n",
    "\n",
    "    for j in range(niter-1):\n",
    "        dS0dt = -beta*S0[j]*I0[j]\n",
    "        dI0dt = beta*S0[j]*I0[j] - alpha*I0[j]\n",
    "        dR0dt = alpha*I0[j]\n",
    "        dSdt=-(beta)*S[j]*I[j]\n",
    "        dEdt=beta*S[j]*I[j]-kappa*E[j]\n",
    "        dIdt=kappa*E[j]-alpha*I[j]\n",
    "        dRdt=alpha*I[j]\n",
    "        S0[j+1] = S0[j] + dt*dS0dt\n",
    "        I0[j+1] = I0[j] + dt*dI0dt\n",
    "        R0[j+1] = R0[j] + dt*dR0dt\n",
    "        S[j+1] = S[j] + dt*dSdt\n",
    "        E[j+1] = E[j] + dt*dEdt\n",
    "        I[j+1] = I[j] + dt*dIdt\n",
    "        R[j+1] = R[j] + dt*dRdt\n",
    "    N0 = S0 + I0 + R0\n",
    "    N = S + E + I + R\n",
    "    I1 = I + E\n",
    "    \n",
    "    for i in range(niter-1):\n",
    "        if S0[i+1]+S[i+1] > 0:\n",
    "            DeltaS[i+1] = abs(200*(S0[i+1]-S[i+1])/(S0[i+1]+S[i+1]))\n",
    "        else:\n",
    "            DeltaS[i+1] = 0\n",
    "    for i in range(niter-1):\n",
    "        if I0[i+1]+I1[i+1] > 0:\n",
    "            DeltaI[i+1] = abs(200*(I0[i+1]-I1[i+1])/(I0[i+1]+I1[i+1]))\n",
    "        else:\n",
    "            DeltaI[i] = 0\n",
    "    for i in range(niter-1):\n",
    "        if R0[i+1]+R[i+1] >0:\n",
    "            DeltaR[i+1] = abs(200*(R0[i+1]-R[i+1])/(R0[i+1]+R[i+1]))\n",
    "        else:\n",
    "            DeltaR[i+1] = 0\n",
    "    for i in range(niter-1):\n",
    "        if N0[i+1]+N[i+1] > 0:\n",
    "            DeltaN[i+1] = abs(200*(N0[i+1]-N[i+1])/(N0[i+1]+N[i+1]))\n",
    "        else:\n",
    "            DeltaN[i+1] = 0\n",
    "    \n",
    "    plt.plot(t, DeltaS)\n",
    "    plt.plot(t, DeltaI)\n",
    "    plt.plot(t, DeltaR)\n",
    "    plt.plot(t, DeltaN)\n",
    "    plt.gca().legend(('susceptible', 'infected','recovered','total'), loc = 'upper right')\n",
    "    plt.title('Brauer 2008 SIR/SEIR model comparison k = ' + str(kappa)+ ', R0 = ' + str(R_0.round(4)))\n",
    "    plt.xlabel('days since 2 percent of population infected')\n",
    "    plt.ylabel('percent difference')\n",
    "    plt.savefig(plotname)\n",
    "    plt.show()\n",
    "    \n",
    "    #df = pd.DataFrame({'days':t, 'S percent diff':DeltaS, 'I percent diff':DeltaI,\n",
    "     #                 'R percent diff':DeltaR, 'N percent diff':DeltaN})\n",
    "    #df.to_csv(filename)\n",
    "    \n",
    "    return plt.show()"
   ]
  },
  {
   "cell_type": "code",
   "execution_count": 3,
   "metadata": {},
   "outputs": [
    {
     "data": {
      "image/png": "[encoded data removed]",
      "text/plain": [
       "<Figure size 432x288 with 1 Axes>"
      ]
     },
     "metadata": {
      "needs_background": "light"
     },
     "output_type": "display_data"
    }
   ],
   "source": [
    "BrauerSIRcomparison()"
   ]
  },
  {
   "cell_type": "code",
   "execution_count": 4,
   "metadata": {},
   "outputs": [
    {
     "data": {
      "image/png": "[encoded data removed]",
      "text/plain": [
       "<Figure size 432x288 with 1 Axes>"
      ]
     },
     "metadata": {
      "needs_background": "light"
     },
     "output_type": "display_data"
    }
   ],
   "source": [
    "BrauerSIRcomparison(1000, 0.04, 0.25, 1000, \"SIRcomp1kalpha04beta'25kappa1000.csv\", \"SIRcomp1kalpha04beta'25kappa1000.png\")"
   ]
  },
  {
   "cell_type": "code",
   "execution_count": 5,
   "metadata": {},
   "outputs": [
    {
     "data": {
      "image/png": "[encoded data removed]",
      "text/plain": [
       "<Figure size 432x288 with 1 Axes>"
      ]
     },
     "metadata": {
      "needs_background": "light"
     },
     "output_type": "display_data"
    }
   ],
   "source": [
    "BrauerSIRcomparison(1000, 0.04, 0.25, 10, \"SIRcomp1kalpha04beta'25kappa10.csv\", \"SIRcomp1kalpha04beta'25kappa10.png\")"
   ]
  },
  {
   "cell_type": "code",
   "execution_count": null,
   "metadata": {},
   "outputs": [],
   "source": []
  }
 ],
 "metadata": {
  "kernelspec": {
   "display_name": "Python 3",
   "language": "python",
   "name": "python3"
  },
  "language_info": {
   "codemirror_mode": {
    "name": "ipython",
    "version": 3
   },
   "file_extension": ".py",
   "mimetype": "text/x-python",
   "name": "python",
   "nbconvert_exporter": "python",
   "pygments_lexer": "ipython3",
   "version": "3.7.6"
  }
 },
 "nbformat": 4,
 "nbformat_minor": 4
}
